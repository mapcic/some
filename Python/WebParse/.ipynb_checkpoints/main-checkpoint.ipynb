{
 "cells": [
  {
   "cell_type": "code",
   "execution_count": 113,
   "metadata": {
    "collapsed": true
   },
   "outputs": [],
   "source": [
    "import urllib.request\n",
    "import bs4\n",
    "import pandas\n",
    "\n",
    "response = urllib.request.urlopen('https://vk.com/topic-22522055_25921627?offset=20')\n",
    "soup = bs4.BeautifulSoup(response, 'html.parser')"
   ]
  },
  {
   "cell_type": "code",
   "execution_count": 114,
   "metadata": {},
   "outputs": [],
   "source": [
    "nodes = soup.findAll('div', {'class': 'post_item'})"
   ]
  },
  {
   "cell_type": "code",
   "execution_count": 115,
   "metadata": {
    "collapsed": true
   },
   "outputs": [],
   "source": [
    "import datetime as _dt\n",
    "import re as _re\n",
    "\n",
    "monthRus = [\n",
    "    'янв', 'фев', 'мар', 'апр', 'май', 'июн', 'июл', 'авг', 'сен', 'окт', 'ноя', 'дек'\n",
    "]\n",
    "\n",
    "vkDateRegex = _re.compile('([0-9]{1,2})\\W([а-я]{3})\\W([0-9]{4})\\Wв\\W([0-9]{1,2}):([0-9]{1,2})', _re.IGNORECASE)\n",
    "props = []"
   ]
  },
  {
   "cell_type": "code",
   "execution_count": 125,
   "metadata": {},
   "outputs": [],
   "source": [
    "for node in nodes:\n",
    "    fromId = node.find('a', {'class': 'pi_author'}).get('href')[1:]\n",
    "    \n",
    "    toId = node.find('a', {'class': 'mem_link'})\n",
    "    toId = toId.get('href')[1:] if toId else 0\n",
    "    \n",
    "    date = node.find('a', {'class', 'item_date'}).text\n",
    "    day, month, year, hours, minutes = vkDateRegex.findall(date)[0]\n",
    "    date = _dt.datetime(int(year), monthRus.index(month)+1, int(day), int(hours), int(minutes), 0)\n",
    "    \n",
    "    likes = node.find('b', {'class', 'v_like'})\n",
    "    likes = likes.text if likes else 0\n",
    "    \n",
    "    props.append({\n",
    "        'from' : fromId,\n",
    "        'to' : toId,\n",
    "        'date' : date.strftime('%Y-%m-%d %H:%M:%S'),\n",
    "        'likes' : likes\n",
    "    })"
   ]
  },
  {
   "cell_type": "code",
   "execution_count": 126,
   "metadata": {},
   "outputs": [],
   "source": [
    "separator = ',';\n",
    "keys = props[0].keys()"
   ]
  },
  {
   "cell_type": "code",
   "execution_count": 127,
   "metadata": {},
   "outputs": [],
   "source": [
    "from os import stat as _os_stat\n",
    "from os import path as _os_path\n",
    "if not _os_path.isfile('vk.csv') or _os_stat('vk.csv').st_size == 0:\n",
    "    file = open('vk.csv', 'w')\n",
    "    file.write(separator.join(keys)+'\\n')\n",
    "    file.close()"
   ]
  },
  {
   "cell_type": "code",
   "execution_count": 128,
   "metadata": {},
   "outputs": [
    {
     "name": "stdout",
     "output_type": "stream",
     "text": [
      "dict_values(['dimka_tlt', 'id40586669', '2012-01-30 21:25:00', '1'])\n",
      "dict_values(['id100606467', 'sberbankhelp', '2012-01-30 21:28:00', '19'])\n",
      "dict_values(['guglberg', '', '2012-01-30 23:22:00', '3'])\n",
      "dict_values(['rumyantsev68', '', '2012-01-31 08:45:00', '5'])\n",
      "dict_values(['sberbankhelp', 'alexeeev', '2012-01-31 10:06:00', '1'])\n",
      "dict_values(['sberbankhelp', 'id146778911', '2012-01-31 10:23:00', '2'])\n",
      "dict_values(['sberbankhelp', 'id100606467', '2012-01-31 10:40:00', 0])\n",
      "dict_values(['sberbankhelp', 'dimka_tlt', '2012-01-31 10:46:00', 0])\n",
      "dict_values(['sberbankhelp', 'guglberg', '2012-01-31 10:47:00', 0])\n",
      "dict_values(['sberbankhelp', 'olya_smetanina', '2012-01-31 11:04:00', '3'])\n",
      "dict_values(['olya_smetanina', '', '2012-01-31 11:25:00', '1'])\n",
      "dict_values(['dimka_tlt', 'sberbankhelp', '2012-01-31 11:55:00', '3'])\n",
      "dict_values(['sberbankhelp', 'rumyantsev68', '2012-01-31 12:36:00', 0])\n",
      "dict_values(['id140995465', '', '2012-02-01 11:48:00', '3'])\n",
      "dict_values(['sberbankhelp', 'id140995465', '2012-02-01 13:19:00', 0])\n",
      "dict_values(['irapain', '', '2012-02-03 12:40:00', '1'])\n",
      "dict_values(['sberbankhelp', 'irapain', '2012-02-03 13:36:00', 0])\n",
      "dict_values(['g.gabtrakhmanov', '', '2012-02-03 20:10:00', '2'])\n",
      "dict_values(['mds056', '', '2012-02-03 21:12:00', '1'])\n",
      "dict_values(['id80834415', 'g.gabtrakhmanov', '2012-02-04 01:02:00', '2'])\n",
      "dict_values(['dimka_tlt', 'id40586669', '2012-01-30 21:25:00', '1'])\n",
      "dict_values(['id100606467', 'sberbankhelp', '2012-01-30 21:28:00', '19'])\n",
      "dict_values(['guglberg', '\"\"', '2012-01-30 23:22:00', '3'])\n",
      "dict_values(['rumyantsev68', '\"\"', '2012-01-31 08:45:00', '5'])\n",
      "dict_values(['sberbankhelp', 'alexeeev', '2012-01-31 10:06:00', '1'])\n",
      "dict_values(['sberbankhelp', 'id146778911', '2012-01-31 10:23:00', '2'])\n",
      "dict_values(['sberbankhelp', 'id100606467', '2012-01-31 10:40:00', 0])\n",
      "dict_values(['sberbankhelp', 'dimka_tlt', '2012-01-31 10:46:00', 0])\n",
      "dict_values(['sberbankhelp', 'guglberg', '2012-01-31 10:47:00', 0])\n",
      "dict_values(['sberbankhelp', 'olya_smetanina', '2012-01-31 11:04:00', '3'])\n",
      "dict_values(['olya_smetanina', '\"\"', '2012-01-31 11:25:00', '1'])\n",
      "dict_values(['dimka_tlt', 'sberbankhelp', '2012-01-31 11:55:00', '3'])\n",
      "dict_values(['sberbankhelp', 'rumyantsev68', '2012-01-31 12:36:00', 0])\n",
      "dict_values(['id140995465', '\"\"', '2012-02-01 11:48:00', '3'])\n",
      "dict_values(['sberbankhelp', 'id140995465', '2012-02-01 13:19:00', 0])\n",
      "dict_values(['irapain', '\"\"', '2012-02-03 12:40:00', '1'])\n",
      "dict_values(['sberbankhelp', 'irapain', '2012-02-03 13:36:00', 0])\n",
      "dict_values(['g.gabtrakhmanov', '\"\"', '2012-02-03 20:10:00', '2'])\n",
      "dict_values(['mds056', '\"\"', '2012-02-03 21:12:00', '1'])\n",
      "dict_values(['id80834415', 'g.gabtrakhmanov', '2012-02-04 01:02:00', '2'])\n",
      "dict_values(['dimka_tlt', 'id40586669', '2012-01-30 21:25:00', '1'])\n",
      "dict_values(['id100606467', 'sberbankhelp', '2012-01-30 21:28:00', '19'])\n",
      "dict_values(['guglberg', '\"\"', '2012-01-30 23:22:00', '3'])\n",
      "dict_values(['rumyantsev68', '\"\"', '2012-01-31 08:45:00', '5'])\n",
      "dict_values(['sberbankhelp', 'alexeeev', '2012-01-31 10:06:00', '1'])\n",
      "dict_values(['sberbankhelp', 'id146778911', '2012-01-31 10:23:00', '2'])\n",
      "dict_values(['sberbankhelp', 'id100606467', '2012-01-31 10:40:00', 0])\n",
      "dict_values(['sberbankhelp', 'dimka_tlt', '2012-01-31 10:46:00', 0])\n",
      "dict_values(['sberbankhelp', 'guglberg', '2012-01-31 10:47:00', 0])\n",
      "dict_values(['sberbankhelp', 'olya_smetanina', '2012-01-31 11:04:00', '3'])\n",
      "dict_values(['olya_smetanina', '\"\"', '2012-01-31 11:25:00', '1'])\n",
      "dict_values(['dimka_tlt', 'sberbankhelp', '2012-01-31 11:55:00', '3'])\n",
      "dict_values(['sberbankhelp', 'rumyantsev68', '2012-01-31 12:36:00', 0])\n",
      "dict_values(['id140995465', '\"\"', '2012-02-01 11:48:00', '3'])\n",
      "dict_values(['sberbankhelp', 'id140995465', '2012-02-01 13:19:00', 0])\n",
      "dict_values(['irapain', '\"\"', '2012-02-03 12:40:00', '1'])\n",
      "dict_values(['sberbankhelp', 'irapain', '2012-02-03 13:36:00', 0])\n",
      "dict_values(['g.gabtrakhmanov', '\"\"', '2012-02-03 20:10:00', '2'])\n",
      "dict_values(['mds056', '\"\"', '2012-02-03 21:12:00', '1'])\n",
      "dict_values(['id80834415', 'g.gabtrakhmanov', '2012-02-04 01:02:00', '2'])\n",
      "dict_values(['dimka_tlt', 'id40586669', '2012-01-30 21:25:00', '1'])\n",
      "dict_values(['id100606467', 'sberbankhelp', '2012-01-30 21:28:00', '19'])\n",
      "dict_values(['guglberg', 0, '2012-01-30 23:22:00', '3'])\n",
      "dict_values(['rumyantsev68', 0, '2012-01-31 08:45:00', '5'])\n",
      "dict_values(['sberbankhelp', 'alexeeev', '2012-01-31 10:06:00', '1'])\n",
      "dict_values(['sberbankhelp', 'id146778911', '2012-01-31 10:23:00', '2'])\n",
      "dict_values(['sberbankhelp', 'id100606467', '2012-01-31 10:40:00', 0])\n",
      "dict_values(['sberbankhelp', 'dimka_tlt', '2012-01-31 10:46:00', 0])\n",
      "dict_values(['sberbankhelp', 'guglberg', '2012-01-31 10:47:00', 0])\n",
      "dict_values(['sberbankhelp', 'olya_smetanina', '2012-01-31 11:04:00', '3'])\n",
      "dict_values(['olya_smetanina', 0, '2012-01-31 11:25:00', '1'])\n",
      "dict_values(['dimka_tlt', 'sberbankhelp', '2012-01-31 11:55:00', '3'])\n",
      "dict_values(['sberbankhelp', 'rumyantsev68', '2012-01-31 12:36:00', 0])\n",
      "dict_values(['id140995465', 0, '2012-02-01 11:48:00', '3'])\n",
      "dict_values(['sberbankhelp', 'id140995465', '2012-02-01 13:19:00', 0])\n",
      "dict_values(['irapain', 0, '2012-02-03 12:40:00', '1'])\n",
      "dict_values(['sberbankhelp', 'irapain', '2012-02-03 13:36:00', 0])\n",
      "dict_values(['g.gabtrakhmanov', 0, '2012-02-03 20:10:00', '2'])\n",
      "dict_values(['mds056', 0, '2012-02-03 21:12:00', '1'])\n",
      "dict_values(['id80834415', 'g.gabtrakhmanov', '2012-02-04 01:02:00', '2'])\n",
      "dict_values(['dimka_tlt', 'id40586669', '2012-01-30 21:25:00', '1'])\n",
      "dict_values(['id100606467', 'sberbankhelp', '2012-01-30 21:28:00', '19'])\n",
      "dict_values(['guglberg', 0, '2012-01-30 23:22:00', '3'])\n",
      "dict_values(['rumyantsev68', 0, '2012-01-31 08:45:00', '5'])\n",
      "dict_values(['sberbankhelp', 'alexeeev', '2012-01-31 10:06:00', '1'])\n",
      "dict_values(['sberbankhelp', 'id146778911', '2012-01-31 10:23:00', '2'])\n",
      "dict_values(['sberbankhelp', 'id100606467', '2012-01-31 10:40:00', 0])\n",
      "dict_values(['sberbankhelp', 'dimka_tlt', '2012-01-31 10:46:00', 0])\n",
      "dict_values(['sberbankhelp', 'guglberg', '2012-01-31 10:47:00', 0])\n",
      "dict_values(['sberbankhelp', 'olya_smetanina', '2012-01-31 11:04:00', '3'])\n",
      "dict_values(['olya_smetanina', 0, '2012-01-31 11:25:00', '1'])\n",
      "dict_values(['dimka_tlt', 'sberbankhelp', '2012-01-31 11:55:00', '3'])\n",
      "dict_values(['sberbankhelp', 'rumyantsev68', '2012-01-31 12:36:00', 0])\n",
      "dict_values(['id140995465', 0, '2012-02-01 11:48:00', '3'])\n",
      "dict_values(['sberbankhelp', 'id140995465', '2012-02-01 13:19:00', 0])\n",
      "dict_values(['irapain', 0, '2012-02-03 12:40:00', '1'])\n",
      "dict_values(['sberbankhelp', 'irapain', '2012-02-03 13:36:00', 0])\n",
      "dict_values(['g.gabtrakhmanov', 0, '2012-02-03 20:10:00', '2'])\n",
      "dict_values(['mds056', 0, '2012-02-03 21:12:00', '1'])\n",
      "dict_values(['id80834415', 'g.gabtrakhmanov', '2012-02-04 01:02:00', '2'])\n"
     ]
    }
   ],
   "source": [
    "csv = open('vk.csv', 'a')\n",
    "for prop in props:\n",
    "    print(prop.values())"
   ]
  },
  {
   "cell_type": "code",
   "execution_count": 93,
   "metadata": {},
   "outputs": [
    {
     "data": {
      "text/plain": [
       "'2012-01-30 21:25:00'"
      ]
     },
     "execution_count": 93,
     "metadata": {},
     "output_type": "execute_result"
    }
   ],
   "source": [
    "props[0]['date'].strftime('%Y-%m-%d %H:%M:%S')"
   ]
  }
 ],
 "metadata": {
  "kernelspec": {
   "display_name": "Python 3",
   "language": "python",
   "name": "python3"
  },
  "language_info": {
   "codemirror_mode": {
    "name": "ipython",
    "version": 3
   },
   "file_extension": ".py",
   "mimetype": "text/x-python",
   "name": "python",
   "nbconvert_exporter": "python",
   "pygments_lexer": "ipython3",
   "version": "3.6.1"
  }
 },
 "nbformat": 4,
 "nbformat_minor": 2
}
