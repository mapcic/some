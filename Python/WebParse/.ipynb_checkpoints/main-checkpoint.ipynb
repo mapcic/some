{
 "cells": [
  {
   "cell_type": "code",
   "execution_count": 114,
   "metadata": {
    "collapsed": true
   },
   "outputs": [],
   "source": [
    "import urllib.request\n",
    "import bs4\n",
    "import pandas\n",
    "\n",
    "response = urllib.request.urlopen('https://vk.com/topic-22522055_25921627?offset=20')\n",
    "soup = bs4.BeautifulSoup(response, 'html.parser')"
   ]
  },
  {
   "cell_type": "code",
   "execution_count": 122,
   "metadata": {},
   "outputs": [
    {
     "name": "stdout",
     "output_type": "stream",
     "text": [
      "20\n"
     ]
    }
   ],
   "source": [
    "nodes = soup.findAll('div', {'class': 'post_item'})"
   ]
  },
  {
   "cell_type": "code",
   "execution_count": 137,
   "metadata": {
    "collapsed": true
   },
   "outputs": [],
   "source": [
    "import datetime as _dt\n",
    "import re as _re\n",
    "\n",
    "monthRus = [\n",
    "    'янв', 'фев', 'мар', 'апр', 'май', 'июн', 'июл', 'авг', 'сен', 'окт', 'ноя', 'дек'\n",
    "]\n",
    "\n",
    "vkDateRegex = _re.compile('([0-9]{1,2})\\W([а-я]{3})\\W([0-9]{4})\\Wв\\W([0-9]{1,2}):([0-9]{1,2})', _re.IGNORECASE)"
   ]
  },
  {
   "cell_type": "code",
   "execution_count": 132,
   "metadata": {},
   "outputs": [],
   "source": [
    "for node in nodes:\n",
    "    fromId = node.find('a', {'class': 'pi_author'}).get('href')[1:]\n",
    "    toId = node.find('a', {'class': 'mem_link'})\n",
    "    \n",
    "    if (toId):\n",
    "        toId = toId.get('href')[1:]\n",
    "    \n",
    "    date = node.find('a', {'class', 'item_date'})\n",
    "    \n",
    "    likes = node.find('b', {'class', 'v_like'})\n",
    "    likes = likes.text if likes else 0\n",
    "    "
   ]
  },
  {
   "cell_type": "code",
   "execution_count": 165,
   "metadata": {},
   "outputs": [
    {
     "data": {
      "text/plain": [
       "datetime.datetime(2012, 2, 1, 11, 48)"
      ]
     },
     "execution_count": 165,
     "metadata": {},
     "output_type": "execute_result"
    }
   ],
   "source": [
    "# '1 фев 2012 в 11:48' ([0-9]{1,2})\\W([а-я]{3})\\W([0-9]{4})\\Wв\\W([0-9]{1,2}):([0-9]{1,2})\n",
    "\n",
    "day, month, year, hours, minutes = vkDateRegex.findall('1 фев 2012 в 11:48')[0]\n",
    "date = _dt.datetime(int(year), monthRus.index(month)+1, int(day), int(hours), int(minutes), 0)\n",
    "date"
   ]
  },
  {
   "cell_type": "code",
   "execution_count": null,
   "metadata": {
    "collapsed": true
   },
   "outputs": [],
   "source": []
  },
  {
   "cell_type": "code",
   "execution_count": 154,
   "metadata": {},
   "outputs": [
    {
     "data": {
      "text/plain": [
       "0"
      ]
     },
     "execution_count": 154,
     "metadata": {},
     "output_type": "execute_result"
    }
   ],
   "source": [
    "# import time    \n",
    "# time.strftime('%Y-%m-%d %H:%M:%S')\n",
    "# datetime.strptime( \"2009-11-12 23:18:53\", \"%Y-%m-%d %H:%M:%S\" )\n",
    "monthRus.index('янв')"
   ]
  }
 ],
 "metadata": {
  "kernelspec": {
   "display_name": "Python 3",
   "language": "python",
   "name": "python3"
  },
  "language_info": {
   "codemirror_mode": {
    "name": "ipython",
    "version": 3
   },
   "file_extension": ".py",
   "mimetype": "text/x-python",
   "name": "python",
   "nbconvert_exporter": "python",
   "pygments_lexer": "ipython3",
   "version": "3.6.1"
  }
 },
 "nbformat": 4,
 "nbformat_minor": 2
}
