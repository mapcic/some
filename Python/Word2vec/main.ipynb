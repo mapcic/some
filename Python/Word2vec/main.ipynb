{
 "cells": [
  {
   "cell_type": "code",
   "execution_count": 45,
   "metadata": {},
   "outputs": [],
   "source": [
    "import gensim.models.doc2vec as d2v\n",
    "# from gensim import models.doc2vec as d2v"
   ]
  },
  {
   "cell_type": "code",
   "execution_count": 56,
   "metadata": {},
   "outputs": [],
   "source": [
    "# voc_file = open('voc.txt', 'r')\n",
    "\n",
    "class LabeledLineSentence(object):\n",
    "    def __init__(self, filename):\n",
    "        self.filename = filename\n",
    "    def __iter__(self):\n",
    "        for uid, line in enumerate(open(self.filename)):\n",
    "            yield d2v.LabeledSentence(words=line.split(), tags=['SENT_%s' % uid])\n",
    "            \n",
    "sentences = LabeledLineSentence('voc.txt')"
   ]
  },
  {
   "cell_type": "code",
   "execution_count": 61,
   "metadata": {},
   "outputs": [],
   "source": [
    "model = d2v.Doc2Vec(sentences, size=100, window=8, min_count=5, workers=4)"
   ]
  },
  {
   "cell_type": "code",
   "execution_count": 63,
   "metadata": {},
   "outputs": [
    {
     "data": {
      "text/plain": [
       "2689757"
      ]
     },
     "execution_count": 63,
     "metadata": {},
     "output_type": "execute_result"
    }
   ],
   "source": [
    "model.train(sentences, total_examples=model.corpus_count, epochs=20)"
   ]
  },
  {
   "cell_type": "code",
   "execution_count": 66,
   "metadata": {
    "collapsed": true
   },
   "outputs": [],
   "source": [
    "model.save('test.d2v')"
   ]
  },
  {
   "cell_type": "code",
   "execution_count": 67,
   "metadata": {},
   "outputs": [
    {
     "data": {
      "text/plain": [
       "array([-0.12725984, -0.15446104, -0.36419588,  0.30474874,  0.03359917,\n",
       "       -0.10460962, -0.10313608,  0.05456538, -0.18159923, -0.16068096,\n",
       "        0.12578131,  0.03931005,  0.00405481, -0.2957834 , -0.05000006,\n",
       "       -0.06299557, -0.11241499, -0.02555135,  0.06361082, -0.20107713,\n",
       "       -0.02974634, -0.09888238, -0.29762021, -0.07791048, -0.0844163 ,\n",
       "        0.0571858 , -0.00957108, -0.00133738, -0.07083044,  0.33434787,\n",
       "        0.00791798, -0.158693  ,  0.05915285,  0.1921217 ,  0.11245614,\n",
       "       -0.23962943,  0.015947  ,  0.26148877, -0.17052972, -0.19314164,\n",
       "       -0.07718211,  0.26367146, -0.26931611,  0.00859694,  0.00467424,\n",
       "        0.12746949,  0.19626541, -0.01584804,  0.05746861, -0.2375403 ,\n",
       "        0.06913897, -0.06733715, -0.23118001,  0.12809303, -0.08924191,\n",
       "        0.01107481,  0.08951874,  0.05126161,  0.33193687, -0.04705061,\n",
       "        0.11413155, -0.15052733, -0.05386834, -0.31707594, -0.03734419,\n",
       "       -0.12740454,  0.14410101, -0.04320796, -0.22567695,  0.11272996,\n",
       "       -0.30949289,  0.06229364, -0.08797629,  0.17691089, -0.16780587,\n",
       "        0.11720618,  0.47723922, -0.34658954,  0.22596936,  0.07883806,\n",
       "       -0.15691005, -0.15058605,  0.19333994,  0.12428403, -0.18907245,\n",
       "       -0.41145495,  0.02430633,  0.11800551, -0.02694544,  0.19199756,\n",
       "        0.08163638,  0.01471614,  0.11262884,  0.110456  ,  0.08044215,\n",
       "       -0.25609815,  0.22973865,  0.0398312 ,  0.27123901, -0.04409828], dtype=float32)"
      ]
     },
     "execution_count": 67,
     "metadata": {},
     "output_type": "execute_result"
    }
   ],
   "source": [
    "model.infer_vector('Здравствуйте! Мне 21 год, имею условный срок, я хотел бы взять в кредит 150 тыс. дадут ли мне кредит? Скажите пожалуйста')"
   ]
  }
 ],
 "metadata": {
  "kernelspec": {
   "display_name": "Python 3",
   "language": "python",
   "name": "python3"
  },
  "language_info": {
   "codemirror_mode": {
    "name": "ipython",
    "version": 3
   },
   "file_extension": ".py",
   "mimetype": "text/x-python",
   "name": "python",
   "nbconvert_exporter": "python",
   "pygments_lexer": "ipython3",
   "version": "3.6.1"
  }
 },
 "nbformat": 4,
 "nbformat_minor": 2
}
